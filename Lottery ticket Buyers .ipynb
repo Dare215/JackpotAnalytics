{
 "cells": [
  {
   "cell_type": "code",
   "execution_count": 7,
   "id": "548bcce4-49c7-414f-b1b1-e3b838bcbe24",
   "metadata": {},
   "outputs": [
    {
     "data": {
      "text/plain": [
       "'Lottery_Long_Combined_All.csv'"
      ]
     },
     "execution_count": 7,
     "metadata": {},
     "output_type": "execute_result"
    }
   ],
   "source": [
    "import pandas as pd\n",
    "# Load the cleaned datasets\n",
    "powerball_df = pd.read_csv(\"powerball_cleaned.csv\")\n",
    "megamillions_df = pd.read_csv(\"mega_millions_cleaned.csv\")\n",
    "pick10_df = pd.read_csv(\"pick10_cleaned.csv\")\n",
    "\n",
    "# Add 'Game' column to each for identification\n",
    "powerball_df['Game'] = 'Powerball'\n",
    "megamillions_df['Game'] = 'Mega Millions'\n",
    "pick10_df['Game'] = 'Pick 10'\n",
    "\n",
    "# Melt all to long formatudsing PB_, MM_, P10_ prefixes as constants\n",
    "def reshape_lottery_data(df, prefix):\n",
    "    draw_col = 'Draw Date'\n",
    "    number_cols = [col for col in df.columns if col.startswith(prefix)]\n",
    "    df_melted = df.melt(id_vars=[draw_col, 'Game'], value_vars=number_cols, var_name='Position', value_name='Number')\n",
    "    df_melted[draw_col] = pd.to_datetime(df_melted[draw_col], errors='coerce')\n",
    "    df_melted['Number'] = pd.to_numeric(df_melted['Number'], errors='coerce')\n",
    "    return df_melted.dropna()\n",
    "\n",
    "# Reshape each dataset\n",
    "pb_long = reshape_lottery_data(powerball_df, 'PB')\n",
    "mm_long = reshape_lottery_data(megamillions_df, 'MM')\n",
    "p10_long = reshape_lottery_data(pick10_df, 'P10')\n",
    "\n",
    "# Combine for visual summary\n",
    "combined_lottery = pd.concat([pb_long, mm_long, p10_long])\n",
    "\n",
    "# Save final combined long format CSV for use in Tableau/Power BI\n",
    "combined_csv_path = \"Lottery_Long_Combined_All.csv\"\n",
    "combined_lottery.to_csv(combined_csv_path, index=False)\n",
    "\n",
    "combined_csv_path\n"
   ]
  },
  {
   "cell_type": "code",
   "execution_count": 13,
   "id": "1f9c8312-64c8-4b40-b66d-9a8690ffa44b",
   "metadata": {},
   "outputs": [
    {
     "data": {
      "text/plain": [
       "'Lottery_Visuals_Report_Final.pdf'"
      ]
     },
     "execution_count": 13,
     "metadata": {},
     "output_type": "execute_result"
    }
   ],
   "source": [
    "# Re-import necessary libraries and dataset\n",
    "import matplotlib.pyplot as plt\n",
    "import seaborn as sns\n",
    "from matplotlib.backends.backend_pdf import PdfPages\n",
    "\n",
    "# Read the rebuilt dataset\n",
    "combined_lottery = pd.read_csv(\"Lottery_Long_Combined_All.csv\")\n",
    "combined_lottery['Draw Date'] = pd.to_datetime(combined_lottery['Draw Date'], errors='coerce')\n",
    "\n",
    "# Prepare the figures list\n",
    "figures = []\n",
    "\n",
    "# Histogram\n",
    "plt.figure(figsize=(10, 6))\n",
    "sns.histplot(data=combined_lottery, x='Number', bins=50, color='skyblue')\n",
    "plt.title('Histogram of All Drawn Numbers')\n",
    "plt.xlabel('Number')\n",
    "plt.ylabel('Frequency')\n",
    "figures.append(plt.gcf())\n",
    "plt.close()\n",
    "\n",
    "# Bubble Chart\n",
    "bubble_data = combined_lottery.groupby(['Game', 'Number']).size().reset_index(name='Frequency')\n",
    "plt.figure(figsize=(10, 6))\n",
    "sns.scatterplot(data=bubble_data, x='Number', y='Frequency', size='Frequency', hue='Game', alpha=0.6, sizes=(20, 300))\n",
    "plt.title('Bubble Chart of Number Frequency by Game')\n",
    "plt.xlabel('Number')\n",
    "plt.ylabel('Frequency')\n",
    "figures.append(plt.gcf())\n",
    "plt.close()\n",
    "\n",
    "# Scatterplot\n",
    "plt.figure(figsize=(12, 6))\n",
    "sns.scatterplot(data=combined_lottery, x='Draw Date', y='Number', hue='Game', alpha=0.6)\n",
    "plt.title('Scatterplot of Drawn Numbers Over Time')\n",
    "plt.xlabel('Draw Date')\n",
    "plt.ylabel('Number')\n",
    "figures.append(plt.gcf())\n",
    "plt.close()\n",
    "\n",
    "# Bar Chart\n",
    "bar_data = combined_lottery[['Number']].dropna()\n",
    "bar_data = bar_data.groupby('Number').size().reset_index(name='Frequency').sort_values('Number')\n",
    "plt.figure(figsize=(12, 6))\n",
    "sns.barplot(data=bar_data, x='Number', y='Frequency')\n",
    "plt.title('Bar Chart of Total Number Frequency Across All Games')\n",
    "plt.xlabel('Number')\n",
    "plt.ylabel('Frequency')\n",
    "figures.append(plt.gcf())\n",
    "plt.close()\n",
    "\n",
    "# Export all to a PDF\n",
    "final_pdf_path = \"Lottery_Visuals_Report_Final.pdf\"\n",
    "with PdfPages(final_pdf_path) as pdf:\n",
    "    for fig in figures:\n",
    "        pdf.savefig(fig)\n",
    "\n",
    "final_pdf_path\n"
   ]
  },
  {
   "cell_type": "code",
   "execution_count": null,
   "id": "50f1cbb4-114b-4529-87e2-1553c3b46d8d",
   "metadata": {},
   "outputs": [],
   "source": []
  }
 ],
 "metadata": {
  "kernelspec": {
   "display_name": "Python [conda env:base] *",
   "language": "python",
   "name": "conda-base-py"
  },
  "language_info": {
   "codemirror_mode": {
    "name": "ipython",
    "version": 3
   },
   "file_extension": ".py",
   "mimetype": "text/x-python",
   "name": "python",
   "nbconvert_exporter": "python",
   "pygments_lexer": "ipython3",
   "version": "3.12.7"
  }
 },
 "nbformat": 4,
 "nbformat_minor": 5
}
